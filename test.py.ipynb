{
 "cells": [
  {
   "cell_type": "code",
   "execution_count": 2037,
   "id": "7832fb1b",
   "metadata": {},
   "outputs": [],
   "source": [
    "from util.activation import *\n",
    "import numpy as np\n",
    "\n",
    "def softmax(x):\n",
    "    '''\n",
    "        softmax(x) = exp(x) / ∑exp(x)\n",
    "    '''\n",
    "    # Numerically stable with large exponentials\n",
    "    exps = np.exp(x - x.max())\n",
    "    return exps / np.sum(exps, axis=0)\n",
    "\n",
    "class NN():\n",
    "    def __init__(self, input_size=784,hidden_0_size=64, hidden_1_size=32, hidden_2_size=16, output_size=10, learning_rate=0.01):\n",
    "        self.input_data = np.random.randn(input_size, 1)\n",
    "        self.learning_rate = learning_rate\n",
    "        \n",
    "        self.w0 = np.random.randn(hidden_0_size, input_size) * np.sqrt(1./input_size)\n",
    "        self.b0 = np.zeros((hidden_0_size, 1))\n",
    "        \n",
    "        self.w1 = np.random.randn(hidden_1_size, hidden_0_size) * np.sqrt(1./hidden_0_size)\n",
    "        self.b1 = np.zeros((hidden_1_size, 1))\n",
    "        \n",
    "        self.w2 = np.random.randn(output_size, hidden_1_size) * np.sqrt(1./hidden_1_size)\n",
    "        self.b2 = np.zeros((output_size, 1)) \n",
    "        \n",
    "        self.w0_grad_cache = np.zeros((hidden_0_size, input_size)) \n",
    "        self.b0_grad_cache = np.zeros((hidden_0_size, 1))  \n",
    "\n",
    "    def forward(self, input_data):\n",
    "        self.input_data = input_data\n",
    "        self.z0 = self.w0 @ self.input_data.T + self.b0\n",
    "        self.h0_out = Relu(self.z0)\n",
    "        self.z1 = self.w1 @ self.h0_out + self.b1\n",
    "        self.h1_out = Relu(self.z1)\n",
    "        self.z2 = self.w2 @ self.h1_out + self.b2\n",
    "        self.output_layer = softmax(self.z2)\n",
    "        \n",
    "        return self.output_layer\n",
    "\n",
    "    def backward(self, target):\n",
    "        batch_size = target.shape[0]\n",
    "        Loss_to_z_grad = (self.output_layer - target.T) \n",
    "\n",
    "        self.b2_grad = (1./batch_size) * np.sum(Loss_to_z_grad, axis=1, keepdims=True)\n",
    "        self.w2_grad = (1./batch_size) * Loss_to_z_grad @ self.h1_out.T\n",
    "\n",
    "        Activation_1_grad = self.w2.T @ Loss_to_z_grad\n",
    "        Activation_1_grad[self.z1<0] = 0     \n",
    "\n",
    "        self.b1_grad = (1./batch_size) * np.sum(Activation_1_grad, axis=1, keepdims=True)\n",
    "        self.w1_grad = (1./batch_size) * Activation_1_grad @ self.h0_out.T\n",
    "        \n",
    "        Activation_0_grad = self.w1.T @ Activation_1_grad\n",
    "        Activation_0_grad[self.z0<0] = 0     \n",
    "\n",
    "        self.b0_grad = (1./batch_size) * np.sum(Activation_0_grad, axis=1, keepdims=True)\n",
    "        self.w0_grad = (1./batch_size) * Activation_0_grad @ self.input_data\n",
    "\n",
    "    # Update Weights\n",
    "    def update(self, Beta=0.1, epoch=0, decay=0.6):\n",
    "        self.learning_rate *= (1. /(1. + decay * epoch))\n",
    "        \n",
    "        self.w0 = self.w0 - self.learning_rate * self.w0_grad\n",
    "        self.b0 = self.b0 - self.learning_rate * self.b0_grad\n",
    "        \n",
    "        self.w1 = self.w1 - self.learning_rate * self.w1_grad\n",
    "        self.b1 = self.b1 - self.learning_rate * self.b1_grad\n",
    "\n",
    "        self.w2 = self.w2 - self.learning_rate * self.w2_grad\n",
    "        self.b2 = self.b2 - self.learning_rate * self.b2_grad"
   ]
  },
  {
   "cell_type": "code",
   "execution_count": 2038,
   "id": "86aac0d6",
   "metadata": {},
   "outputs": [],
   "source": [
    "mnist_nn = NN(input_size = 784, output_size = 10)"
   ]
  },
  {
   "cell_type": "code",
   "execution_count": 2039,
   "id": "41beed36",
   "metadata": {},
   "outputs": [
    {
     "name": "stdout",
     "output_type": "stream",
     "text": [
      "[[1 0 0 0 0 0 0 0 0 0]\n",
      " [0 1 0 0 0 0 0 0 0 0]\n",
      " [0 0 1 0 0 0 0 0 0 0]\n",
      " [0 0 0 1 0 0 0 0 0 0]\n",
      " [0 0 0 0 1 0 0 0 0 0]\n",
      " [0 0 0 0 0 1 0 0 0 0]\n",
      " [0 0 0 0 0 0 1 0 0 0]\n",
      " [0 0 0 0 0 0 0 1 0 0]]\n"
     ]
    }
   ],
   "source": [
    "label = np.array([[1,0,0,0,0,0,0,0,0,0],\n",
    "                 [0,1,0,0,0,0,0,0,0,0],\n",
    "                 [0,0,1,0,0,0,0,0,0,0],\n",
    "                 [0,0,0,1,0,0,0,0,0,0],\n",
    "                 [0,0,0,0,1,0,0,0,0,0],\n",
    "                 [0,0,0,0,0,1,0,0,0,0],\n",
    "                 [0,0,0,0,0,0,1,0,0,0],\n",
    "                 [0,0,0,0,0,0,0,1,0,0]\n",
    "                 ])\n",
    "\n",
    "print(label)"
   ]
  },
  {
   "cell_type": "code",
   "execution_count": 2040,
   "id": "7cc3886d",
   "metadata": {},
   "outputs": [
    {
     "name": "stdout",
     "output_type": "stream",
     "text": [
      "[[-0.93030512  0.53214325  0.6147861  ... -0.75318553 -0.18273254\n",
      "   1.90259526]\n",
      " [ 0.82171174 -1.1595951   1.24144712 ... -0.49021979 -0.52280822\n",
      "   0.05054249]\n",
      " [ 0.79313558  0.28696203  0.5698601  ...  1.53454821 -1.41229911\n",
      "   0.86619051]\n",
      " ...\n",
      " [-1.97725652  0.35813333  2.1034475  ... -0.96132692 -2.19129859\n",
      "   0.98708466]\n",
      " [ 1.70266404  0.6552918  -1.81411077 ... -0.14584901 -1.14510982\n",
      "  -0.65638356]\n",
      " [-0.42014918 -0.84117061  0.02390027 ...  0.31762505 -0.88959898\n",
      "  -1.0493743 ]]\n"
     ]
    }
   ],
   "source": [
    "image = np.random.randn(8, 784)\n",
    "print(image)"
   ]
  },
  {
   "cell_type": "code",
   "execution_count": 2312,
   "id": "b3b6cf3d",
   "metadata": {},
   "outputs": [
    {
     "name": "stdout",
     "output_type": "stream",
     "text": [
      "[[ 5.92969823e+00 -5.04031833e-02 -3.06569180e-01  6.11590829e-01\n",
      "  -2.03561921e+00 -1.75212775e+00 -2.73354820e+00 -1.52199414e+00]\n",
      " [-1.53576730e+00  6.79948979e+00  1.73692804e+00 -2.81820533e-02\n",
      "  -1.28018887e+00 -1.90862756e+00 -1.59040895e+00 -7.08278326e-01]\n",
      " [ 2.25287698e-01  2.09714234e+00  6.63356672e+00 -1.24304423e+00\n",
      "  -2.66822014e+00 -2.51639570e+00 -2.05291810e+00 -1.57655782e+00]\n",
      " [-1.45858081e+00 -1.39210619e-02  6.74504977e-03  7.08690256e+00\n",
      "  -1.21766690e+00 -2.88753858e+00 -5.49169952e+00 -1.74724711e-01]\n",
      " [-1.56133473e+00 -9.24257248e-01 -4.59663142e-01  2.58211865e-01\n",
      "   6.44073395e+00 -6.95774114e-01 -1.67099177e+00 -1.01002310e-01]\n",
      " [-8.96808119e-01 -1.32421059e+00 -4.67351207e+00  9.89627826e-01\n",
      "  -7.95053359e-01  5.32855696e+00 -8.48729570e-01 -8.28537185e-01]\n",
      " [-1.74482773e-01 -3.02869231e+00 -1.28598525e+00 -2.07509407e+00\n",
      "   1.77968608e-01 -3.73752407e-01  4.94235571e+00  1.40469443e+00]\n",
      " [-2.51808267e+00 -1.32467931e+00 -7.84124962e-01  4.00418932e-01\n",
      "   1.14197144e+00 -2.79327230e+00  1.36065622e-01  6.30366562e+00]\n",
      " [ 3.26182765e-01 -6.01114524e-01  2.98420530e-01  4.58296254e-01\n",
      "  -2.01613533e+00 -9.10689637e-01 -3.05708244e+00 -6.74961595e-01]\n",
      " [-3.03035221e+00 -2.25143729e+00 -5.95361109e-01 -1.35690359e+00\n",
      "  -9.61126522e-01 -3.36498506e+00 -2.61516414e+00 -2.75630147e+00]]\n"
     ]
    },
    {
     "data": {
      "text/plain": [
       "array([0, 1, 2, 3, 4, 5, 6, 7])"
      ]
     },
     "execution_count": 2312,
     "metadata": {},
     "output_type": "execute_result"
    }
   ],
   "source": [
    "output = mnist_nn.forward(image)      \n",
    "mnist_nn.backward(label)\n",
    "mnist_nn.update()\n",
    "print(mnist_nn.z2)\n",
    "np.argmax(output, axis=0)"
   ]
  },
  {
   "cell_type": "code",
   "execution_count": 2313,
   "id": "e2353979",
   "metadata": {},
   "outputs": [
    {
     "name": "stdout",
     "output_type": "stream",
     "text": [
      "[[ 5.92969823e+00 -5.04031833e-02 -3.06569180e-01  6.11590829e-01\n",
      "  -2.03561921e+00 -1.75212775e+00 -2.73354820e+00 -1.52199414e+00]\n",
      " [-1.53576730e+00  6.79948979e+00  1.73692804e+00 -2.81820533e-02\n",
      "  -1.28018887e+00 -1.90862756e+00 -1.59040895e+00 -7.08278326e-01]\n",
      " [ 2.25287698e-01  2.09714234e+00  6.63356672e+00 -1.24304423e+00\n",
      "  -2.66822014e+00 -2.51639570e+00 -2.05291810e+00 -1.57655782e+00]\n",
      " [-1.45858081e+00 -1.39210619e-02  6.74504977e-03  7.08690256e+00\n",
      "  -1.21766690e+00 -2.88753858e+00 -5.49169952e+00 -1.74724711e-01]\n",
      " [-1.56133473e+00 -9.24257248e-01 -4.59663142e-01  2.58211865e-01\n",
      "   6.44073395e+00 -6.95774114e-01 -1.67099177e+00 -1.01002310e-01]\n",
      " [-8.96808119e-01 -1.32421059e+00 -4.67351207e+00  9.89627826e-01\n",
      "  -7.95053359e-01  5.32855696e+00 -8.48729570e-01 -8.28537185e-01]\n",
      " [-1.74482773e-01 -3.02869231e+00 -1.28598525e+00 -2.07509407e+00\n",
      "   1.77968608e-01 -3.73752407e-01  4.94235571e+00  1.40469443e+00]\n",
      " [-2.51808267e+00 -1.32467931e+00 -7.84124962e-01  4.00418932e-01\n",
      "   1.14197144e+00 -2.79327230e+00  1.36065622e-01  6.30366562e+00]\n",
      " [ 3.26182765e-01 -6.01114524e-01  2.98420530e-01  4.58296254e-01\n",
      "  -2.01613533e+00 -9.10689637e-01 -3.05708244e+00 -6.74961595e-01]\n",
      " [-3.03035221e+00 -2.25143729e+00 -5.95361109e-01 -1.35690359e+00\n",
      "  -9.61126522e-01 -3.36498506e+00 -2.61516414e+00 -2.75630147e+00]]\n",
      "[[9.87726376e-01 1.04592040e-03 9.54705843e-04 1.52755148e-03\n",
      "  2.06339487e-04 8.32541938e-04 4.56432401e-04 3.93775353e-04]\n",
      " [5.65491613e-04 9.87118639e-01 7.36799206e-03 8.05649281e-04\n",
      "  4.39199233e-04 7.11932991e-04 1.43164563e-03 8.88466006e-04]\n",
      " [3.29035408e-03 8.95706654e-03 9.86125764e-01 2.39077159e-04\n",
      "  1.09609262e-04 3.87693722e-04 9.01509615e-04 3.72865175e-04]\n",
      " [6.10868648e-04 1.08478236e-03 1.30599111e-03 9.91260977e-01\n",
      "  4.67535420e-04 2.67487482e-04 2.89418685e-05 1.51481713e-03]\n",
      " [5.51216710e-04 4.36504408e-04 8.19184484e-04 1.07281620e-03\n",
      "  9.90411670e-01 2.39427856e-03 1.32080547e-03 1.63071264e-03]\n",
      " [1.07132839e-03 2.92611307e-04 1.21151942e-05 2.22933451e-03\n",
      "  7.13433090e-04 9.89711048e-01 3.00568037e-03 7.87794704e-04]\n",
      " [2.20609661e-03 5.32162293e-05 3.58520990e-04 1.04035948e-04\n",
      "  1.88769280e-03 3.30390025e-03 9.83963922e-01 7.35009961e-03]\n",
      " [2.11744444e-04 2.92474185e-04 5.92201823e-04 1.23675896e-03\n",
      "  4.94985446e-03 2.93929237e-04 8.04699837e-03 9.86028301e-01]\n",
      " [3.63965992e-03 6.03014472e-04 1.74828919e-03 1.31045125e-03\n",
      "  2.10399202e-04 1.93124802e-03 3.30268635e-04 9.18565412e-04]\n",
      " [1.26863353e-04 1.15771501e-04 7.15235133e-04 2.13348500e-04\n",
      "  6.04266600e-04 1.65940001e-04 5.13795163e-04 1.14602915e-04]]\n"
     ]
    }
   ],
   "source": [
    "print(mnist_nn.z2)\n",
    "print(output)"
   ]
  },
  {
   "cell_type": "code",
   "execution_count": 2314,
   "id": "87baedfe",
   "metadata": {},
   "outputs": [
    {
     "name": "stdout",
     "output_type": "stream",
     "text": [
      "[[-1.22736238e-02  1.04592040e-03  9.54705843e-04  1.52755148e-03\n",
      "   2.06339487e-04  8.32541938e-04  4.56432401e-04  3.93775353e-04]\n",
      " [ 5.65491613e-04 -1.28813614e-02  7.36799206e-03  8.05649281e-04\n",
      "   4.39199233e-04  7.11932991e-04  1.43164563e-03  8.88466006e-04]\n",
      " [ 3.29035408e-03  8.95706654e-03 -1.38742358e-02  2.39077159e-04\n",
      "   1.09609262e-04  3.87693722e-04  9.01509615e-04  3.72865175e-04]\n",
      " [ 6.10868648e-04  1.08478236e-03  1.30599111e-03 -8.73902328e-03\n",
      "   4.67535420e-04  2.67487482e-04  2.89418685e-05  1.51481713e-03]\n",
      " [ 5.51216710e-04  4.36504408e-04  8.19184484e-04  1.07281620e-03\n",
      "  -9.58832956e-03  2.39427856e-03  1.32080547e-03  1.63071264e-03]\n",
      " [ 1.07132839e-03  2.92611307e-04  1.21151942e-05  2.22933451e-03\n",
      "   7.13433090e-04 -1.02889522e-02  3.00568037e-03  7.87794704e-04]\n",
      " [ 2.20609661e-03  5.32162293e-05  3.58520990e-04  1.04035948e-04\n",
      "   1.88769280e-03  3.30390025e-03 -1.60360775e-02  7.35009961e-03]\n",
      " [ 2.11744444e-04  2.92474185e-04  5.92201823e-04  1.23675896e-03\n",
      "   4.94985446e-03  2.93929237e-04  8.04699837e-03 -1.39716989e-02]\n",
      " [ 3.63965992e-03  6.03014472e-04  1.74828919e-03  1.31045125e-03\n",
      "   2.10399202e-04  1.93124802e-03  3.30268635e-04  9.18565412e-04]\n",
      " [ 1.26863353e-04  1.15771501e-04  7.15235133e-04  2.13348500e-04\n",
      "   6.04266600e-04  1.65940001e-04  5.13795163e-04  1.14602915e-04]]\n"
     ]
    }
   ],
   "source": [
    "print(output - label.T)"
   ]
  },
  {
   "cell_type": "code",
   "execution_count": null,
   "id": "285cd02f",
   "metadata": {},
   "outputs": [],
   "source": []
  },
  {
   "cell_type": "code",
   "execution_count": null,
   "id": "f0c0a78c",
   "metadata": {},
   "outputs": [],
   "source": []
  }
 ],
 "metadata": {
  "kernelspec": {
   "display_name": "Python 3 (ipykernel)",
   "language": "python",
   "name": "python3"
  },
  "language_info": {
   "codemirror_mode": {
    "name": "ipython",
    "version": 3
   },
   "file_extension": ".py",
   "mimetype": "text/x-python",
   "name": "python",
   "nbconvert_exporter": "python",
   "pygments_lexer": "ipython3",
   "version": "3.8.9"
  }
 },
 "nbformat": 4,
 "nbformat_minor": 5
}
